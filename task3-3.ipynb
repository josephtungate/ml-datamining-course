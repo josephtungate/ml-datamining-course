{
 "cells": [
  {
   "cell_type": "markdown",
   "id": "40364cc0",
   "metadata": {},
   "source": [
    "<h1>Task 3.3</h1>"
   ]
  },
  {
   "cell_type": "code",
   "execution_count": 1,
   "id": "ae92c2cc",
   "metadata": {},
   "outputs": [],
   "source": [
    "import mlhelper as mlh\n",
    "from sklearn.svm import SVR, SVC\n",
    "from sklearn.neural_network import MLPRegressor\n",
    "from sklearn.neighbors import KNeighborsClassifier\n",
    "from sklearn.model_selection import train_test_split, GridSearchCV, cross_val_score\n",
    "from sklearn.metrics import make_scorer, r2_score, mean_squared_error, \\\n",
    "mean_absolute_error, balanced_accuracy_score, accuracy_score, \\\n",
    "roc_auc_score, ConfusionMatrixDisplay, PredictionErrorDisplay\n",
    "from sklearn.dummy import DummyRegressor, DummyClassifier\n",
    "from scipy.stats import ttest_ind, ttest_rel"
   ]
  },
  {
   "cell_type": "markdown",
   "id": "85ceb740",
   "metadata": {},
   "source": [
    "<h2>Regression Model for GWP</h2>\n",
    "In this section, we build a Multi-layer Perceptron regression model for the GWP dataset. We will:\n",
    "<ul>\n",
    "    <li>Split GWP into training and testing</li>\n",
    "    <li>Perform Cross Validation on an MLP</li>\n",
    "    <li>Perform Hyperparameter optimisation</li>\n",
    "    <li>Evaluate performance</li>\n",
    "</ul>"
   ]
  },
  {
   "cell_type": "markdown",
   "id": "637428b4",
   "metadata": {},
   "source": [
    "<h3>Training and Optimisation</h3>"
   ]
  },
  {
   "cell_type": "code",
   "execution_count": 3,
   "id": "f01f0985",
   "metadata": {},
   "outputs": [],
   "source": [
    "gwp = mlh.GWPDataset(\"gwp_assessment.csv\")"
   ]
  },
  {
   "cell_type": "markdown",
   "id": "baa0db32",
   "metadata": {},
   "source": [
    "We perform grid search cross validation for the SVR. Hyperparameters and their ranges were chosen by consulting sklearn docs. We search the following parameter space and use the following scores:"
   ]
  },
  {
   "cell_type": "code",
   "execution_count": 4,
   "id": "6e01188c",
   "metadata": {},
   "outputs": [],
   "source": [
    "MLP_param_space = [\n",
    "  {'hidden_layer_sizes': [(100), (100, 100), (100, 100, 100)], \n",
    "   'solver': ['adam', 'sgd'],}]"
   ]
  },
  {
   "cell_type": "markdown",
   "id": "097f3809",
   "metadata": {},
   "source": [
    "We use the following metrics. All standard scores for evaluating regression models."
   ]
  },
  {
   "cell_type": "code",
   "execution_count": 5,
   "id": "7547d99f",
   "metadata": {},
   "outputs": [],
   "source": [
    "MLP_scores = {\n",
    "    \"r2_score\": make_scorer(r2_score),\n",
    "    \"mse_score\": make_scorer(mean_squared_error, greater_is_better=False),\n",
    "    \"mae_score\": make_scorer(mean_absolute_error, greater_is_better=False)\n",
    "}"
   ]
  },
  {
   "cell_type": "markdown",
   "id": "8d8659be",
   "metadata": {},
   "source": [
    "Now we run grid search for an MLP across this parameter space. We choose the model with the greatest r2 score."
   ]
  },
  {
   "cell_type": "code",
   "execution_count": 6,
   "id": "e5911626",
   "metadata": {},
   "outputs": [],
   "source": [
    "mlp_results = mlh.train(MLPRegressor(), gwp, MLP_param_space, MLP_scores, 5, refit=\"r2_score\")"
   ]
  },
  {
   "cell_type": "markdown",
   "id": "d0eb5889",
   "metadata": {},
   "source": [
    "<h3>Evaluation</h3>"
   ]
  },
  {
   "cell_type": "markdown",
   "id": "7915f38a",
   "metadata": {},
   "source": [
    "Through the process of grid search, we find our best MLP has the following hyperparameters:"
   ]
  },
  {
   "cell_type": "code",
   "execution_count": 10,
   "id": "7862f0c9",
   "metadata": {},
   "outputs": [
    {
     "data": {
      "text/plain": [
       "{'hidden_layer_sizes': (100, 100), 'solver': 'adam'}"
      ]
     },
     "execution_count": 10,
     "metadata": {},
     "output_type": "execute_result"
    }
   ],
   "source": [
    "mlp_results[\"grid_search\"].best_params_"
   ]
  },
  {
   "cell_type": "markdown",
   "id": "90c72ea5",
   "metadata": {},
   "source": [
    "With the test scores:"
   ]
  },
  {
   "cell_type": "code",
   "execution_count": 7,
   "id": "0fdfd252",
   "metadata": {},
   "outputs": [
    {
     "data": {
      "text/plain": [
       "{'r2_score': 0.17118247136509912,\n",
       " 'mse_score': -0.02654685379358445,\n",
       " 'mae_score': -0.11423913572036284}"
      ]
     },
     "execution_count": 7,
     "metadata": {},
     "output_type": "execute_result"
    }
   ],
   "source": [
    "mlp_results[\"test_scores\"]"
   ]
  },
  {
   "cell_type": "markdown",
   "id": "55484cb0",
   "metadata": {},
   "source": [
    "As we did in the previous task, let's see how a dummy regressor performs. In this case, the dummy regressor always predicts the mean."
   ]
  },
  {
   "cell_type": "code",
   "execution_count": 10,
   "id": "48dc6f93",
   "metadata": {
    "scrolled": true
   },
   "outputs": [
    {
     "name": "stdout",
     "output_type": "stream",
     "text": [
      "dummy r2 score: -3.2232634892714884e-05\n"
     ]
    }
   ],
   "source": [
    "gwp_x_train, gwp_x_test, gwp_y_train, gwp_y_test = mlp_results[\"dataset\"]\n",
    "\n",
    "dummy_regressor = DummyRegressor(strategy='mean')\n",
    "dummy_regressor.fit(gwp_x_train, gwp_y_train)\n",
    "print(\"dummy r2 score:\", dummy_regressor.score(gwp_x_test, gwp_y_test))"
   ]
  },
  {
   "cell_type": "markdown",
   "id": "27471d3c",
   "metadata": {},
   "source": [
    "Clearly, our regressor is better than the dummy regressor, but the r2 score is nonetheless quite low for MLP as it was for SVR in the previous task."
   ]
  },
  {
   "cell_type": "markdown",
   "id": "6011441f",
   "metadata": {},
   "source": [
    "<h4>Visualisations</h4>"
   ]
  },
  {
   "cell_type": "markdown",
   "id": "cdf4597e",
   "metadata": {},
   "source": [
    "<h5>Prediction Error</h5>"
   ]
  },
  {
   "cell_type": "markdown",
   "id": "db27e732",
   "metadata": {},
   "source": [
    "Let's visualise the prediction error on the test data:"
   ]
  },
  {
   "cell_type": "code",
   "execution_count": 19,
   "id": "3fa12d36",
   "metadata": {},
   "outputs": [
    {
     "data": {
      "text/plain": [
       "<sklearn.metrics._plot.regression.PredictionErrorDisplay at 0x2868a7f29a0>"
      ]
     },
     "execution_count": 19,
     "metadata": {},
     "output_type": "execute_result"
    },
    {
     "data": {
      "image/png": "[encoded data removed]",
      "text/plain": [
       "<Figure size 640x480 with 1 Axes>"
      ]
     },
     "metadata": {},
     "output_type": "display_data"
    }
   ],
   "source": [
    "PredictionErrorDisplay(y_true=gwp_y_test, \n",
    "                       y_pred=mlp_results[\"best_model\"].predict(gwp_x_test)\n",
    "                      ).plot(kind=\"actual_vs_predicted\")"
   ]
  },
  {
   "cell_type": "markdown",
   "id": "2e14dcaf",
   "metadata": {},
   "source": [
    "MLP seems to overpredict and underpredict with roughly equal measure. It is at its best with values near the centre of the ditribution."
   ]
  },
  {
   "cell_type": "code",
   "execution_count": 20,
   "id": "5dfd14f8",
   "metadata": {
    "scrolled": false
   },
   "outputs": [
    {
     "data": {
      "text/plain": [
       "<sklearn.metrics._plot.regression.PredictionErrorDisplay at 0x286ac118070>"
      ]
     },
     "execution_count": 20,
     "metadata": {},
     "output_type": "execute_result"
    },
    {
     "data": {
      "image/png": "[encoded data removed]",
      "text/plain": [
       "<Figure size 640x480 with 1 Axes>"
      ]
     },
     "metadata": {},
     "output_type": "display_data"
    }
   ],
   "source": [
    "PredictionErrorDisplay(y_true=gwp_y_test, \n",
    "                       y_pred=mlp_results[\"best_model\"].predict(gwp_x_test)\n",
    "                      ).plot(kind=\"residual_vs_predicted\")"
   ]
  },
  {
   "cell_type": "markdown",
   "id": "377adc19",
   "metadata": {},
   "source": [
    "Quite a wide range of residuals. Again, both underestimating and overestimating wildly."
   ]
  },
  {
   "cell_type": "markdown",
   "id": "2c140feb",
   "metadata": {},
   "source": [
    "<h2>Classification Model for Star Dataset</h2>\n",
    "In this section we build an KNN classifier to classify the star dataset. We will do the following:\n",
    "<ul>\n",
    "    <li>Split Star Dataset into training and testing</li>\n",
    "    <li>Perform Cross Validation on a KNN</li>\n",
    "    <li>Perform Hyperparameter optimisation</li>\n",
    "    <li>Evaluate performance</li>\n",
    "</ul>"
   ]
  },
  {
   "cell_type": "code",
   "execution_count": 21,
   "id": "e1f12d18",
   "metadata": {},
   "outputs": [],
   "source": [
    "star = mlh.StarDataset(\"star_assessment.csv\")"
   ]
  },
  {
   "cell_type": "markdown",
   "id": "74a2b4bc",
   "metadata": {},
   "source": [
    "We search the following parameter space, varying both the number of neighbours to consider as well as the way by which neighbours' contributions are weighted:"
   ]
  },
  {
   "cell_type": "code",
   "execution_count": 22,
   "id": "0ad488f8",
   "metadata": {},
   "outputs": [],
   "source": [
    "knn_param_space = [\n",
    "  {'n_neighbors': [5, 10, 20, 50], 'weights': ['uniform', 'distance']},\n",
    " ]"
   ]
  },
  {
   "cell_type": "markdown",
   "id": "fa948dc6",
   "metadata": {},
   "source": [
    "And we use the following standard classification metrics. We look at balanced accuracy due to the class imbalance in the star dataset:"
   ]
  },
  {
   "cell_type": "code",
   "execution_count": 30,
   "id": "bf3e70b4",
   "metadata": {},
   "outputs": [],
   "source": [
    "knn_scores = {\n",
    "    \"accuracy_score\": make_scorer(accuracy_score),\n",
    "    \"balanced_accuracy_score\": make_scorer(balanced_accuracy_score),\n",
    "}"
   ]
  },
  {
   "cell_type": "markdown",
   "id": "b511ba32",
   "metadata": {},
   "source": [
    "We stratify the training samples to improve performance."
   ]
  },
  {
   "cell_type": "code",
   "execution_count": 24,
   "id": "4cea5884",
   "metadata": {},
   "outputs": [],
   "source": [
    "knn_results = mlh.train(KNeighborsClassifier(), star, knn_param_space, knn_scores, 5, refit=\"accuracy_score\", stratify=star.processed_Y())"
   ]
  },
  {
   "cell_type": "markdown",
   "id": "51feb2fd",
   "metadata": {},
   "source": [
    "<h3>Evaluation</h3>"
   ]
  },
  {
   "cell_type": "markdown",
   "id": "b012af92",
   "metadata": {},
   "source": [
    "Through the process of grid search, we find our best SVC has the following hyperparameters:"
   ]
  },
  {
   "cell_type": "code",
   "execution_count": 26,
   "id": "48c42668",
   "metadata": {},
   "outputs": [
    {
     "data": {
      "text/plain": [
       "{'n_neighbors': 5, 'weights': 'distance'}"
      ]
     },
     "execution_count": 26,
     "metadata": {},
     "output_type": "execute_result"
    }
   ],
   "source": [
    "knn_results[\"grid_search\"].best_params_"
   ]
  },
  {
   "cell_type": "markdown",
   "id": "058947dc",
   "metadata": {},
   "source": [
    "With test scores:"
   ]
  },
  {
   "cell_type": "code",
   "execution_count": 27,
   "id": "2200eabb",
   "metadata": {},
   "outputs": [
    {
     "data": {
      "text/plain": [
       "{'accuracy_score': 0.90905, 'balanced_accuracy_score': 0.8778850374875594}"
      ]
     },
     "execution_count": 27,
     "metadata": {},
     "output_type": "execute_result"
    }
   ],
   "source": [
    "knn_results[\"test_scores\"]"
   ]
  },
  {
   "cell_type": "markdown",
   "id": "aff6d4ca",
   "metadata": {},
   "source": [
    "To get a sense of the power of our classifier, let's first see how a dummy classifier performs. In this case, the dummy regressor always predicts the mean."
   ]
  },
  {
   "cell_type": "code",
   "execution_count": 29,
   "id": "79e58e5f",
   "metadata": {},
   "outputs": [
    {
     "name": "stdout",
     "output_type": "stream",
     "text": [
      "dummy accuracy score: 0.33\n"
     ]
    }
   ],
   "source": [
    "star_x_train, star_x_test, star_y_train, star_y_test = knn_results[\"dataset\"]\n",
    "\n",
    "dummy_classifier = DummyClassifier(strategy='uniform')\n",
    "dummy_classifier.fit(star_x_train, star_y_train)\n",
    "print(\"dummy accuracy score:\",\n",
    "      dummy_classifier.score(star_x_test, star_y_test))"
   ]
  },
  {
   "cell_type": "markdown",
   "id": "4b8fa87a",
   "metadata": {},
   "source": [
    "Our KNN classifier is doing much better than a dummy baseline."
   ]
  },
  {
   "cell_type": "markdown",
   "id": "56298324",
   "metadata": {},
   "source": [
    "<h4>Visualisations</h4>"
   ]
  },
  {
   "cell_type": "code",
   "execution_count": 32,
   "id": "9c541c90",
   "metadata": {},
   "outputs": [],
   "source": [
    "star_class_labels=[\"galaxy\", \"quasar\", \"star\"]"
   ]
  },
  {
   "cell_type": "markdown",
   "id": "11152899",
   "metadata": {},
   "source": [
    "<h5>Confusion Matrix</h5>"
   ]
  },
  {
   "cell_type": "code",
   "execution_count": 33,
   "id": "c432ad78",
   "metadata": {},
   "outputs": [
    {
     "data": {
      "text/plain": [
       "<sklearn.metrics._plot.confusion_matrix.ConfusionMatrixDisplay at 0x286b7ddeaf0>"
      ]
     },
     "execution_count": 33,
     "metadata": {},
     "output_type": "execute_result"
    },
    {
     "data": {
      "image/png": "[encoded data removed]",
      "text/plain": [
       "<Figure size 640x480 with 2 Axes>"
      ]
     },
     "metadata": {},
     "output_type": "display_data"
    }
   ],
   "source": [
    "ConfusionMatrixDisplay.from_estimator(knn_results[\"best_model\"], \n",
    "                                      star_x_test,\n",
    "                                      star_y_test,\n",
    "                                     display_labels=star_class_labels)"
   ]
  },
  {
   "cell_type": "markdown",
   "id": "882995a1",
   "metadata": {},
   "source": [
    "As one might expect, the most represented class in the dataset is the best predicted with the other two sharing a similar recall."
   ]
  },
  {
   "cell_type": "markdown",
   "id": "80645001",
   "metadata": {},
   "source": [
    "<h2>Hypothesis Testing</h2>"
   ]
  },
  {
   "cell_type": "markdown",
   "id": "d9db3d19",
   "metadata": {},
   "source": [
    "We now perform hypothesis testing on the models from task 3.2 and task 3.3.\n",
    "For each problem, we will test if the null hypothesis holds for 10-fold cross validation on their respective datasets."
   ]
  },
  {
   "cell_type": "markdown",
   "id": "ae480593",
   "metadata": {},
   "source": [
    "<h3>Regression Problem</h3>\n",
    "First of all, we test the null hypothesis for the regression problem. Hyperparameters are taken from the results of hyperparameter optimisation."
   ]
  },
  {
   "cell_type": "code",
   "execution_count": 34,
   "id": "f77b5312",
   "metadata": {},
   "outputs": [],
   "source": [
    "x_train, x_test, y_train, y_test = train_test_split(\n",
    "    gwp.processed_X(), gwp.processed_Y(), train_size=0.8, shuffle=True)\n",
    "\n",
    "mlp = MLPRegressor(hidden_layer_sizes=(100, 100), solver='adam')\n",
    "svr = SVR(C=1000, gamma=0.001, kernel='rbf')\n",
    "\n",
    "mlp.fit(x_train, y_train)\n",
    "svr.fit(x_train, y_train)\n",
    "\n",
    "mlp_scores = cross_val_score(mlp, x_test, y_test, cv=10)\n",
    "svr_scores = cross_val_score(svr, x_test, y_test, cv=10)"
   ]
  },
  {
   "cell_type": "code",
   "execution_count": 35,
   "id": "930c56cb",
   "metadata": {},
   "outputs": [
    {
     "data": {
      "text/plain": [
       "Ttest_indResult(statistic=0.427180035421075, pvalue=0.674314449371352)"
      ]
     },
     "execution_count": 35,
     "metadata": {},
     "output_type": "execute_result"
    }
   ],
   "source": [
    "ttest_ind(mlp_scores, svr_scores)"
   ]
  },
  {
   "cell_type": "markdown",
   "id": "69eaec33",
   "metadata": {},
   "source": [
    "Since pvalue > 0.05, we conclude that the null hypothesis holds and therefore SVR and MLP are equally good (or bad depending how you look at it) at the regression task."
   ]
  },
  {
   "cell_type": "markdown",
   "id": "c997e304",
   "metadata": {},
   "source": [
    "<h3>Classification Task</h3>\n",
    "Now we test the null hypothesis for the classification problem. Hyperparameters are taken from the results of hyperparameter optimisation."
   ]
  },
  {
   "cell_type": "code",
   "execution_count": 36,
   "id": "0c3027b0",
   "metadata": {},
   "outputs": [],
   "source": [
    "x_train, x_test, y_train, y_test = train_test_split(\n",
    "    star.processed_X(), star.processed_Y(), train_size=0.8, shuffle=True, \n",
    "    stratify=star.processed_Y())\n",
    "\n",
    "knn = KNeighborsClassifier(n_neighbors=5, weights='distance')\n",
    "svc = SVC(C=100, kernel='linear')\n",
    "\n",
    "knn.fit(x_train, y_train)\n",
    "svc.fit(x_train, y_train)\n",
    "\n",
    "knn_scores = cross_val_score(knn, x_test, y_test, cv=10)\n",
    "svc_scores = cross_val_score(svc, x_test, y_test, cv=10)"
   ]
  },
  {
   "cell_type": "code",
   "execution_count": 37,
   "id": "a40b1239",
   "metadata": {},
   "outputs": [
    {
     "data": {
      "text/plain": [
       "Ttest_indResult(statistic=-36.006275928526335, pvalue=3.1602278417738516e-18)"
      ]
     },
     "execution_count": 37,
     "metadata": {},
     "output_type": "execute_result"
    }
   ],
   "source": [
    "ttest_ind(knn_scores, svc_scores)"
   ]
  },
  {
   "cell_type": "markdown",
   "id": "313db095",
   "metadata": {},
   "source": [
    "Since pvalue < 0.05, we conclude that the null hypothesis does not hold. Therefore, we conclude that knn and svc are not equal in terms of their performance on the classification task."
   ]
  },
  {
   "cell_type": "markdown",
   "id": "ab12c296",
   "metadata": {},
   "source": [
    "<h2>Markdown Question</h2>"
   ]
  },
  {
   "cell_type": "markdown",
   "id": "729b94e8",
   "metadata": {},
   "source": [
    "The hypothesis I was testing was the null hypothesis. Namely, given two sets of scores for each problem, I determined whether the models which produced those scores were equally effective. \n",
    "\n",
    "For the regression problem, the null hypothesis was accepted with a p-value of 0.67. This p-value tells us there is a high probability that the null hypothesis holds. Therefore, both the MLP and SVR regressors I developed have equal effectiveness at solving this problem.\n",
    "\n",
    "For the classification problem, the null hypothesis was rejected with a p-value of 3.16e-18. This p-value is less than 0.05. It is widely accepted that p-values less than 0.05 indicate a hypothesis does not hold. Therefore, the SVC and KNN classifiers do not have equal effectiveness at solving this problem."
   ]
  }
 ],
 "metadata": {
  "kernelspec": {
   "display_name": "Python 3 (ipykernel)",
   "language": "python",
   "name": "python3"
  },
  "language_info": {
   "codemirror_mode": {
    "name": "ipython",
    "version": 3
   },
   "file_extension": ".py",
   "mimetype": "text/x-python",
   "name": "python",
   "nbconvert_exporter": "python",
   "pygments_lexer": "ipython3",
   "version": "3.9.2"
  }
 },
 "nbformat": 4,
 "nbformat_minor": 5
}
